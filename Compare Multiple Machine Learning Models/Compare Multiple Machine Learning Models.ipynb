{
 "cells": [
  {
   "cell_type": "code",
   "execution_count": 1,
   "id": "d0f4a188-ce30-4b62-94c2-c69f93c48b6c",
   "metadata": {},
   "outputs": [],
   "source": [
    "# Laoding the Libraries\n",
    "import pandas as pd\n"
   ]
  },
  {
   "cell_type": "code",
   "execution_count": 2,
   "id": "ebd21348-d597-49a6-8400-70a2fee705ce",
   "metadata": {},
   "outputs": [],
   "source": [
    "# Loading the Dataset\n",
    "data = pd.read_csv('Real_Estate.csv')"
   ]
  },
  {
   "cell_type": "code",
   "execution_count": 3,
   "id": "c337eeec-a769-4be2-827c-b9157c6529f7",
   "metadata": {},
   "outputs": [
    {
     "data": {
      "text/html": [
       "<div>\n",
       "<style scoped>\n",
       "    .dataframe tbody tr th:only-of-type {\n",
       "        vertical-align: middle;\n",
       "    }\n",
       "\n",
       "    .dataframe tbody tr th {\n",
       "        vertical-align: top;\n",
       "    }\n",
       "\n",
       "    .dataframe thead th {\n",
       "        text-align: right;\n",
       "    }\n",
       "</style>\n",
       "<table border=\"1\" class=\"dataframe\">\n",
       "  <thead>\n",
       "    <tr style=\"text-align: right;\">\n",
       "      <th></th>\n",
       "      <th>Transaction date</th>\n",
       "      <th>House age</th>\n",
       "      <th>Distance to the nearest MRT station</th>\n",
       "      <th>Number of convenience stores</th>\n",
       "      <th>Latitude</th>\n",
       "      <th>Longitude</th>\n",
       "      <th>House price of unit area</th>\n",
       "    </tr>\n",
       "  </thead>\n",
       "  <tbody>\n",
       "    <tr>\n",
       "      <th>0</th>\n",
       "      <td>2012-09-02 16:42:30.519336</td>\n",
       "      <td>13.3</td>\n",
       "      <td>4082.0150</td>\n",
       "      <td>8</td>\n",
       "      <td>25.007059</td>\n",
       "      <td>121.561694</td>\n",
       "      <td>6.488673</td>\n",
       "    </tr>\n",
       "    <tr>\n",
       "      <th>1</th>\n",
       "      <td>2012-09-04 22:52:29.919544</td>\n",
       "      <td>35.5</td>\n",
       "      <td>274.0144</td>\n",
       "      <td>2</td>\n",
       "      <td>25.012148</td>\n",
       "      <td>121.546990</td>\n",
       "      <td>24.970725</td>\n",
       "    </tr>\n",
       "    <tr>\n",
       "      <th>2</th>\n",
       "      <td>2012-09-05 01:10:52.349449</td>\n",
       "      <td>1.1</td>\n",
       "      <td>1978.6710</td>\n",
       "      <td>10</td>\n",
       "      <td>25.003850</td>\n",
       "      <td>121.528336</td>\n",
       "      <td>26.694267</td>\n",
       "    </tr>\n",
       "    <tr>\n",
       "      <th>3</th>\n",
       "      <td>2012-09-05 13:26:01.189083</td>\n",
       "      <td>22.2</td>\n",
       "      <td>1055.0670</td>\n",
       "      <td>5</td>\n",
       "      <td>24.962887</td>\n",
       "      <td>121.482178</td>\n",
       "      <td>38.091638</td>\n",
       "    </tr>\n",
       "    <tr>\n",
       "      <th>4</th>\n",
       "      <td>2012-09-06 08:29:47.910523</td>\n",
       "      <td>8.5</td>\n",
       "      <td>967.4000</td>\n",
       "      <td>6</td>\n",
       "      <td>25.011037</td>\n",
       "      <td>121.479946</td>\n",
       "      <td>21.654710</td>\n",
       "    </tr>\n",
       "  </tbody>\n",
       "</table>\n",
       "</div>"
      ],
      "text/plain": [
       "             Transaction date  House age  Distance to the nearest MRT station  \\\n",
       "0  2012-09-02 16:42:30.519336       13.3                            4082.0150   \n",
       "1  2012-09-04 22:52:29.919544       35.5                             274.0144   \n",
       "2  2012-09-05 01:10:52.349449        1.1                            1978.6710   \n",
       "3  2012-09-05 13:26:01.189083       22.2                            1055.0670   \n",
       "4  2012-09-06 08:29:47.910523        8.5                             967.4000   \n",
       "\n",
       "   Number of convenience stores   Latitude   Longitude  \\\n",
       "0                             8  25.007059  121.561694   \n",
       "1                             2  25.012148  121.546990   \n",
       "2                            10  25.003850  121.528336   \n",
       "3                             5  24.962887  121.482178   \n",
       "4                             6  25.011037  121.479946   \n",
       "\n",
       "   House price of unit area  \n",
       "0                  6.488673  \n",
       "1                 24.970725  \n",
       "2                 26.694267  \n",
       "3                 38.091638  \n",
       "4                 21.654710  "
      ]
     },
     "execution_count": 3,
     "metadata": {},
     "output_type": "execute_result"
    }
   ],
   "source": [
    "# Analyse the Top 5 rows of the Dataset\n",
    "data.head()"
   ]
  },
  {
   "cell_type": "code",
   "execution_count": 4,
   "id": "170ff95c-e305-4dfd-a179-23292e72893b",
   "metadata": {},
   "outputs": [
    {
     "name": "stdout",
     "output_type": "stream",
     "text": [
      "<class 'pandas.core.frame.DataFrame'>\n",
      "RangeIndex: 414 entries, 0 to 413\n",
      "Data columns (total 7 columns):\n",
      " #   Column                               Non-Null Count  Dtype  \n",
      "---  ------                               --------------  -----  \n",
      " 0   Transaction date                     414 non-null    object \n",
      " 1   House age                            414 non-null    float64\n",
      " 2   Distance to the nearest MRT station  414 non-null    float64\n",
      " 3   Number of convenience stores         414 non-null    int64  \n",
      " 4   Latitude                             414 non-null    float64\n",
      " 5   Longitude                            414 non-null    float64\n",
      " 6   House price of unit area             414 non-null    float64\n",
      "dtypes: float64(5), int64(1), object(1)\n",
      "memory usage: 22.8+ KB\n"
     ]
    }
   ],
   "source": [
    "# Check information about the Dataset\n",
    "data.info()"
   ]
  },
  {
   "cell_type": "markdown",
   "id": "7e350615-b932-45ef-9c78-f1120d5f5a7f",
   "metadata": {},
   "source": [
    "#### Data Preprocessing\n"
   ]
  },
  {
   "cell_type": "code",
   "execution_count": 5,
   "id": "a4ac99eb-fac9-4ce5-9d62-57c6a6d6942a",
   "metadata": {},
   "outputs": [],
   "source": [
    "from sklearn.model_selection import train_test_split\n",
    "from sklearn.preprocessing import StandardScaler\n",
    "import datetime"
   ]
  },
  {
   "cell_type": "code",
   "execution_count": 6,
   "id": "14afa205-119b-43e6-9d9e-e25fd29ec4a4",
   "metadata": {},
   "outputs": [],
   "source": [
    "# convert \"Transaction date\" to datetime and extract year and month\n",
    "data['Transaction date'] = pd.to_datetime(data['Transaction date'])\n",
    "data['Transaction year'] = data['Transaction date'].dt.year\n",
    "data['Transaction month'] = data['Transaction date'].dt.month"
   ]
  },
  {
   "cell_type": "code",
   "execution_count": 7,
   "id": "948eb1b8-6d14-4b68-80d9-4f573ec5354b",
   "metadata": {},
   "outputs": [
    {
     "data": {
      "text/html": [
       "<div>\n",
       "<style scoped>\n",
       "    .dataframe tbody tr th:only-of-type {\n",
       "        vertical-align: middle;\n",
       "    }\n",
       "\n",
       "    .dataframe tbody tr th {\n",
       "        vertical-align: top;\n",
       "    }\n",
       "\n",
       "    .dataframe thead th {\n",
       "        text-align: right;\n",
       "    }\n",
       "</style>\n",
       "<table border=\"1\" class=\"dataframe\">\n",
       "  <thead>\n",
       "    <tr style=\"text-align: right;\">\n",
       "      <th></th>\n",
       "      <th>Transaction date</th>\n",
       "      <th>House age</th>\n",
       "      <th>Distance to the nearest MRT station</th>\n",
       "      <th>Number of convenience stores</th>\n",
       "      <th>Latitude</th>\n",
       "      <th>Longitude</th>\n",
       "      <th>House price of unit area</th>\n",
       "      <th>Transaction year</th>\n",
       "      <th>Transaction month</th>\n",
       "    </tr>\n",
       "  </thead>\n",
       "  <tbody>\n",
       "    <tr>\n",
       "      <th>0</th>\n",
       "      <td>2012-09-02 16:42:30.519336</td>\n",
       "      <td>13.3</td>\n",
       "      <td>4082.0150</td>\n",
       "      <td>8</td>\n",
       "      <td>25.007059</td>\n",
       "      <td>121.561694</td>\n",
       "      <td>6.488673</td>\n",
       "      <td>2012</td>\n",
       "      <td>9</td>\n",
       "    </tr>\n",
       "    <tr>\n",
       "      <th>1</th>\n",
       "      <td>2012-09-04 22:52:29.919544</td>\n",
       "      <td>35.5</td>\n",
       "      <td>274.0144</td>\n",
       "      <td>2</td>\n",
       "      <td>25.012148</td>\n",
       "      <td>121.546990</td>\n",
       "      <td>24.970725</td>\n",
       "      <td>2012</td>\n",
       "      <td>9</td>\n",
       "    </tr>\n",
       "    <tr>\n",
       "      <th>2</th>\n",
       "      <td>2012-09-05 01:10:52.349449</td>\n",
       "      <td>1.1</td>\n",
       "      <td>1978.6710</td>\n",
       "      <td>10</td>\n",
       "      <td>25.003850</td>\n",
       "      <td>121.528336</td>\n",
       "      <td>26.694267</td>\n",
       "      <td>2012</td>\n",
       "      <td>9</td>\n",
       "    </tr>\n",
       "    <tr>\n",
       "      <th>3</th>\n",
       "      <td>2012-09-05 13:26:01.189083</td>\n",
       "      <td>22.2</td>\n",
       "      <td>1055.0670</td>\n",
       "      <td>5</td>\n",
       "      <td>24.962887</td>\n",
       "      <td>121.482178</td>\n",
       "      <td>38.091638</td>\n",
       "      <td>2012</td>\n",
       "      <td>9</td>\n",
       "    </tr>\n",
       "    <tr>\n",
       "      <th>4</th>\n",
       "      <td>2012-09-06 08:29:47.910523</td>\n",
       "      <td>8.5</td>\n",
       "      <td>967.4000</td>\n",
       "      <td>6</td>\n",
       "      <td>25.011037</td>\n",
       "      <td>121.479946</td>\n",
       "      <td>21.654710</td>\n",
       "      <td>2012</td>\n",
       "      <td>9</td>\n",
       "    </tr>\n",
       "  </tbody>\n",
       "</table>\n",
       "</div>"
      ],
      "text/plain": [
       "            Transaction date  House age  Distance to the nearest MRT station  \\\n",
       "0 2012-09-02 16:42:30.519336       13.3                            4082.0150   \n",
       "1 2012-09-04 22:52:29.919544       35.5                             274.0144   \n",
       "2 2012-09-05 01:10:52.349449        1.1                            1978.6710   \n",
       "3 2012-09-05 13:26:01.189083       22.2                            1055.0670   \n",
       "4 2012-09-06 08:29:47.910523        8.5                             967.4000   \n",
       "\n",
       "   Number of convenience stores   Latitude   Longitude  \\\n",
       "0                             8  25.007059  121.561694   \n",
       "1                             2  25.012148  121.546990   \n",
       "2                            10  25.003850  121.528336   \n",
       "3                             5  24.962887  121.482178   \n",
       "4                             6  25.011037  121.479946   \n",
       "\n",
       "   House price of unit area  Transaction year  Transaction month  \n",
       "0                  6.488673              2012                  9  \n",
       "1                 24.970725              2012                  9  \n",
       "2                 26.694267              2012                  9  \n",
       "3                 38.091638              2012                  9  \n",
       "4                 21.654710              2012                  9  "
      ]
     },
     "execution_count": 7,
     "metadata": {},
     "output_type": "execute_result"
    }
   ],
   "source": [
    "data.head()"
   ]
  },
  {
   "cell_type": "code",
   "execution_count": 8,
   "id": "bf8c44af-3f69-4d7d-add4-4282a199c603",
   "metadata": {},
   "outputs": [],
   "source": [
    "# drop the original \"Transaction date\" as we've extracted relevant features\n",
    "data.drop(columns='Transaction date', inplace = True)"
   ]
  },
  {
   "cell_type": "code",
   "execution_count": 9,
   "id": "893d54e6-df0f-4a7d-be09-f30461c6d08f",
   "metadata": {},
   "outputs": [
    {
     "data": {
      "text/html": [
       "<div>\n",
       "<style scoped>\n",
       "    .dataframe tbody tr th:only-of-type {\n",
       "        vertical-align: middle;\n",
       "    }\n",
       "\n",
       "    .dataframe tbody tr th {\n",
       "        vertical-align: top;\n",
       "    }\n",
       "\n",
       "    .dataframe thead th {\n",
       "        text-align: right;\n",
       "    }\n",
       "</style>\n",
       "<table border=\"1\" class=\"dataframe\">\n",
       "  <thead>\n",
       "    <tr style=\"text-align: right;\">\n",
       "      <th></th>\n",
       "      <th>House age</th>\n",
       "      <th>Distance to the nearest MRT station</th>\n",
       "      <th>Number of convenience stores</th>\n",
       "      <th>Latitude</th>\n",
       "      <th>Longitude</th>\n",
       "      <th>House price of unit area</th>\n",
       "      <th>Transaction year</th>\n",
       "      <th>Transaction month</th>\n",
       "    </tr>\n",
       "  </thead>\n",
       "  <tbody>\n",
       "    <tr>\n",
       "      <th>0</th>\n",
       "      <td>13.3</td>\n",
       "      <td>4082.0150</td>\n",
       "      <td>8</td>\n",
       "      <td>25.007059</td>\n",
       "      <td>121.561694</td>\n",
       "      <td>6.488673</td>\n",
       "      <td>2012</td>\n",
       "      <td>9</td>\n",
       "    </tr>\n",
       "    <tr>\n",
       "      <th>1</th>\n",
       "      <td>35.5</td>\n",
       "      <td>274.0144</td>\n",
       "      <td>2</td>\n",
       "      <td>25.012148</td>\n",
       "      <td>121.546990</td>\n",
       "      <td>24.970725</td>\n",
       "      <td>2012</td>\n",
       "      <td>9</td>\n",
       "    </tr>\n",
       "    <tr>\n",
       "      <th>2</th>\n",
       "      <td>1.1</td>\n",
       "      <td>1978.6710</td>\n",
       "      <td>10</td>\n",
       "      <td>25.003850</td>\n",
       "      <td>121.528336</td>\n",
       "      <td>26.694267</td>\n",
       "      <td>2012</td>\n",
       "      <td>9</td>\n",
       "    </tr>\n",
       "    <tr>\n",
       "      <th>3</th>\n",
       "      <td>22.2</td>\n",
       "      <td>1055.0670</td>\n",
       "      <td>5</td>\n",
       "      <td>24.962887</td>\n",
       "      <td>121.482178</td>\n",
       "      <td>38.091638</td>\n",
       "      <td>2012</td>\n",
       "      <td>9</td>\n",
       "    </tr>\n",
       "    <tr>\n",
       "      <th>4</th>\n",
       "      <td>8.5</td>\n",
       "      <td>967.4000</td>\n",
       "      <td>6</td>\n",
       "      <td>25.011037</td>\n",
       "      <td>121.479946</td>\n",
       "      <td>21.654710</td>\n",
       "      <td>2012</td>\n",
       "      <td>9</td>\n",
       "    </tr>\n",
       "  </tbody>\n",
       "</table>\n",
       "</div>"
      ],
      "text/plain": [
       "   House age  Distance to the nearest MRT station  \\\n",
       "0       13.3                            4082.0150   \n",
       "1       35.5                             274.0144   \n",
       "2        1.1                            1978.6710   \n",
       "3       22.2                            1055.0670   \n",
       "4        8.5                             967.4000   \n",
       "\n",
       "   Number of convenience stores   Latitude   Longitude  \\\n",
       "0                             8  25.007059  121.561694   \n",
       "1                             2  25.012148  121.546990   \n",
       "2                            10  25.003850  121.528336   \n",
       "3                             5  24.962887  121.482178   \n",
       "4                             6  25.011037  121.479946   \n",
       "\n",
       "   House price of unit area  Transaction year  Transaction month  \n",
       "0                  6.488673              2012                  9  \n",
       "1                 24.970725              2012                  9  \n",
       "2                 26.694267              2012                  9  \n",
       "3                 38.091638              2012                  9  \n",
       "4                 21.654710              2012                  9  "
      ]
     },
     "execution_count": 9,
     "metadata": {},
     "output_type": "execute_result"
    }
   ],
   "source": [
    "data.head()"
   ]
  },
  {
   "cell_type": "code",
   "execution_count": 10,
   "id": "54bf7798-faaa-4d79-8138-3749c1d23bb6",
   "metadata": {},
   "outputs": [],
   "source": [
    "# define features and target variable\n",
    "X = data.drop(columns= 'House price of unit area')\n",
    "y = data['House price of unit area']"
   ]
  },
  {
   "cell_type": "code",
   "execution_count": 12,
   "id": "37fc49c7-a25f-4645-b6ad-7a2453531075",
   "metadata": {},
   "outputs": [],
   "source": [
    "# split the data into training and testing sets\n",
    "X_train, X_test, y_train, y_test = train_test_split(X, y, test_size= 0.2, random_state= 42)"
   ]
  },
  {
   "cell_type": "code",
   "execution_count": 13,
   "id": "f6abacc7-07be-42e0-a1ae-ff00f521251a",
   "metadata": {},
   "outputs": [],
   "source": [
    "# scale the features\n",
    "scaler = StandardScaler()\n",
    "X_train_scaled = scaler.fit_transform(X_train)\n",
    "X_test_scaled = scaler.transform(X_test)"
   ]
  },
  {
   "cell_type": "code",
   "execution_count": 14,
   "id": "630ddab4-029c-4f74-9be8-90d2f13f3356",
   "metadata": {},
   "outputs": [
    {
     "data": {
      "text/plain": [
       "(331, 7)"
      ]
     },
     "execution_count": 14,
     "metadata": {},
     "output_type": "execute_result"
    }
   ],
   "source": [
    "X_train_scaled.shape"
   ]
  },
  {
   "cell_type": "code",
   "execution_count": 15,
   "id": "632fe34a-1857-4f33-b92a-7df2035651a4",
   "metadata": {},
   "outputs": [
    {
     "data": {
      "text/plain": [
       "(83, 7)"
      ]
     },
     "execution_count": 15,
     "metadata": {},
     "output_type": "execute_result"
    }
   ],
   "source": [
    "X_test_scaled.shape"
   ]
  },
  {
   "cell_type": "markdown",
   "id": "829940dd-a34d-40a4-9181-661537824925",
   "metadata": {},
   "source": [
    "#### Model Training and Comparison\n"
   ]
  },
  {
   "cell_type": "markdown",
   "id": "b2f89a03-e5b8-4e62-a8db-ba3d8e55da02",
   "metadata": {},
   "source": [
    "###### Now, we’ll proceed with training multiple models and comparing their performance. We’ll start with a few commonly used models for regression tasks:\n",
    "\n",
    "1. Linear Regression: A good baseline model for regression tasks.\n",
    "2. Decision Tree Regressor: To see how a simple tree-based model performs.\n",
    "3. Random Forest Regressor: An ensemble method to improve upon the decision tree’s performance.\n",
    "4. Gradient Boosting Regressor: Another powerful ensemble method for regression."
   ]
  },
  {
   "cell_type": "code",
   "execution_count": 16,
   "id": "b12cc64a-6b49-4f75-af2c-285c6a33dfed",
   "metadata": {},
   "outputs": [],
   "source": [
    "# Let’s start with training these models and comparing their performance\n",
    "from sklearn.linear_model import LinearRegression\n",
    "from sklearn.tree import DecisionTreeRegressor\n",
    "from sklearn.ensemble import RandomForestRegressor, GradientBoostingRegressor\n",
    "from sklearn.metrics import mean_absolute_error, r2_score"
   ]
  },
  {
   "cell_type": "code",
   "execution_count": 17,
   "id": "406dc1b5-2fd7-44bd-8100-5a30a5c23890",
   "metadata": {},
   "outputs": [],
   "source": [
    "# initialize the models\n",
    "models = {\n",
    "    \"Linear Regression\": LinearRegression(),\n",
    "    \"Decision Tree\": DecisionTreeRegressor(random_state = 42),\n",
    "    \"Random Forest\": RandomForestRegressor(random_state = 42),\n",
    "    \"Gradient Boosting\": GradientBoostingRegressor(random_state = 42)\n",
    "}\n"
   ]
  },
  {
   "cell_type": "code",
   "execution_count": 18,
   "id": "10b72b32-d7f6-41bf-ae05-78bf757e9e72",
   "metadata": {},
   "outputs": [],
   "source": [
    "# dictionary to hold the evaluation metrics for each model\n",
    "results = {}"
   ]
  },
  {
   "cell_type": "code",
   "execution_count": 20,
   "id": "69632be3-2e63-45ba-9eff-ee6f7c3e33ce",
   "metadata": {},
   "outputs": [],
   "source": [
    "# Train and evaluate each model\n",
    "for name, model in models.items():\n",
    "    # training the model\n",
    "    model.fit(X_train_scaled, y_train)\n",
    "\n",
    "    # making predictions on the test set\n",
    "    predictions = model.predict(X_test_scaled)\n",
    "\n",
    "    # calculating evaluation metrics\n",
    "    mae = mean_absolute_error(y_test, predictions)\n",
    "    r2 = r2_score(y_test, predictions)\n",
    "\n",
    "    # storing the metrics\n",
    "    results[name] = {'MAE':mae, 'R2': r2}\n"
   ]
  },
  {
   "cell_type": "code",
   "execution_count": 26,
   "id": "d0747670-71d7-4a94-bc7a-9534621eb5bb",
   "metadata": {},
   "outputs": [],
   "source": [
    "# convert the results to a DataFrame for better readability\n",
    "results_df = pd.DataFrame(results).T"
   ]
  },
  {
   "cell_type": "code",
   "execution_count": 27,
   "id": "dc24a9be-c852-463b-9338-a55c52d79526",
   "metadata": {},
   "outputs": [
    {
     "data": {
      "text/html": [
       "<div>\n",
       "<style scoped>\n",
       "    .dataframe tbody tr th:only-of-type {\n",
       "        vertical-align: middle;\n",
       "    }\n",
       "\n",
       "    .dataframe tbody tr th {\n",
       "        vertical-align: top;\n",
       "    }\n",
       "\n",
       "    .dataframe thead th {\n",
       "        text-align: right;\n",
       "    }\n",
       "</style>\n",
       "<table border=\"1\" class=\"dataframe\">\n",
       "  <thead>\n",
       "    <tr style=\"text-align: right;\">\n",
       "      <th></th>\n",
       "      <th>MAE</th>\n",
       "      <th>R2</th>\n",
       "    </tr>\n",
       "  </thead>\n",
       "  <tbody>\n",
       "    <tr>\n",
       "      <th>Linear Regression</th>\n",
       "      <td>9.748246</td>\n",
       "      <td>0.529615</td>\n",
       "    </tr>\n",
       "    <tr>\n",
       "      <th>Decision Tree</th>\n",
       "      <td>11.760342</td>\n",
       "      <td>0.204962</td>\n",
       "    </tr>\n",
       "    <tr>\n",
       "      <th>Random Forest</th>\n",
       "      <td>9.887601</td>\n",
       "      <td>0.509547</td>\n",
       "    </tr>\n",
       "    <tr>\n",
       "      <th>Gradient Boosting</th>\n",
       "      <td>10.000117</td>\n",
       "      <td>0.476071</td>\n",
       "    </tr>\n",
       "  </tbody>\n",
       "</table>\n",
       "</div>"
      ],
      "text/plain": [
       "                         MAE        R2\n",
       "Linear Regression   9.748246  0.529615\n",
       "Decision Tree      11.760342  0.204962\n",
       "Random Forest       9.887601  0.509547\n",
       "Gradient Boosting  10.000117  0.476071"
      ]
     },
     "execution_count": 27,
     "metadata": {},
     "output_type": "execute_result"
    }
   ],
   "source": [
    "results_df"
   ]
  },
  {
   "cell_type": "markdown",
   "id": "299c440f-cb19-43f4-8d17-7c5dbb09b0fc",
   "metadata": {},
   "source": [
    "###### Linear Regression has the lowest MAE (9.75) and the highest R² (0.53), making it the best-performing model among those evaluated. It suggests that, despite its simplicity, Linear Regression is quite effective for this dataset."
   ]
  },
  {
   "cell_type": "markdown",
   "id": "9fcc32d1-e56b-429a-9f3d-85cac129d1ae",
   "metadata": {},
   "source": [
    "###### Decision Tree Regressor shows the highest MAE (11.76) and the lowest R² (0.20), indicating it may be overfitting to the training data and performing poorly on the test data. On the other hand, Random Forest Regressor and Gradient Boosting Regressor have similar MAEs (9.89 and 10.00, respectively) and R² scores (0.51 and 0.48, respectively), performing slightly worse than the Linear Regression model but better than the Decision Tree."
   ]
  },
  {
   "cell_type": "markdown",
   "id": "7284ebb0-0aea-449b-8d4d-58684df444a6",
   "metadata": {},
   "source": [
    "##### Summary\n",
    "This is how you can train and compare multiple Machine Learning models using Python. By comparing multiple models, we aim to select the most effective algorithm that offers the optimal balance of accuracy, complexity, and performance for their specific problem."
   ]
  },
  {
   "cell_type": "code",
   "execution_count": null,
   "id": "b11cf0ea-fd59-408b-a340-e91948bd32cd",
   "metadata": {},
   "outputs": [],
   "source": []
  }
 ],
 "metadata": {
  "kernelspec": {
   "display_name": "Python 3 (ipykernel)",
   "language": "python",
   "name": "python3"
  },
  "language_info": {
   "codemirror_mode": {
    "name": "ipython",
    "version": 3
   },
   "file_extension": ".py",
   "mimetype": "text/x-python",
   "name": "python",
   "nbconvert_exporter": "python",
   "pygments_lexer": "ipython3",
   "version": "3.12.7"
  }
 },
 "nbformat": 4,
 "nbformat_minor": 5
}
